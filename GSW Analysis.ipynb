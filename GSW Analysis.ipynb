{
 "cells": [
  {
   "cell_type": "markdown",
   "metadata": {},
   "source": [
    "# GSW Analysis: Winning and Superstar Impact\n",
    "by Richard Anciado"
   ]
  },
  {
   "cell_type": "markdown",
   "metadata": {},
   "source": [
    "***\n",
    "## Description\n",
    "In this exercise, we look at the 2 month data of the Golden State Warriors' Facebook page. We investigate the impact Stephen Curry has on Social Media posts and examine how winning games affect user engagement.\n"
   ]
  },
  {
   "cell_type": "markdown",
   "metadata": {},
   "source": [
    "## Data\n",
    "\n",
    "We will use this [data](https://docs.google.com/spreadsheets/d/1f70_OUWyN9RLOn2PLmQlIDgyt0Mr94-Of-T5_jTyroI/edit#gid=170132650). It provides Page and Post key metrics for December 2013 - January 2014."
   ]
  },
  {
   "cell_type": "markdown",
   "metadata": {},
   "source": [
    "***\n",
    "## Let's Dig In!\n",
    "\n",
    "First, we import the necessary packages."
   ]
  },
  {
   "cell_type": "code",
   "execution_count": 1,
   "metadata": {},
   "outputs": [],
   "source": [
    "try:\n",
    "    import pandas as pd\n",
    "    import numpy as np\n",
    "    import matplotlib.pyplot as plt\n",
    "    %matplotlib inline\n",
    "except:\n",
    "    import traceback\n",
    "    traceback.print_exc()\n",
    "    raise ImportError('Something failed, see above.')"
   ]
  },
  {
   "cell_type": "markdown",
   "metadata": {},
   "source": [
    "## Prepare the Data\n",
    "We load the data and use the same key metrics found [here](https://drive.google.com/file/d/0Byts4rXrKElFWkZkSmEwYzAyVkk/view).\n",
    "\n",
    "Let's store the __Page Key Metrics__ sheet in a data frame and track the following:\n",
    "1. __Lifetime Post Organic Reach__ - The number of people who saw your Page post in news feed or ticker, or on your Page's timeline. (Unique Users)\n",
    "2. __Lifetime Engaged Users__ - The number of people who clicked anywhere in your posts. (Unique Users)\n",
    "3. __Lifetime Post Consumptions__ - The number of clicks anywhere in your post. (Total Count)"
   ]
  },
  {
   "cell_type": "code",
   "execution_count": 2,
   "metadata": {},
   "outputs": [
    {
     "data": {
      "text/html": [
       "<div>\n",
       "<style scoped>\n",
       "    .dataframe tbody tr th:only-of-type {\n",
       "        vertical-align: middle;\n",
       "    }\n",
       "\n",
       "    .dataframe tbody tr th {\n",
       "        vertical-align: top;\n",
       "    }\n",
       "\n",
       "    .dataframe thead th {\n",
       "        text-align: right;\n",
       "    }\n",
       "</style>\n",
       "<table border=\"1\" class=\"dataframe\">\n",
       "  <thead>\n",
       "    <tr style=\"text-align: right;\">\n",
       "      <th></th>\n",
       "      <th>Post ID</th>\n",
       "      <th>Post Message</th>\n",
       "      <th>Type</th>\n",
       "      <th>Posted</th>\n",
       "      <th>Lifetime Post organic reach</th>\n",
       "      <th>Lifetime Engaged Users</th>\n",
       "      <th>Lifetime Post Consumptions</th>\n",
       "    </tr>\n",
       "  </thead>\n",
       "  <tbody>\n",
       "    <tr>\n",
       "      <th>0</th>\n",
       "      <td>47657117525_10152236476722526</td>\n",
       "      <td>IT’S GAME DAY! The #Warriors continue their 5-...</td>\n",
       "      <td>Photo</td>\n",
       "      <td>2014-01-24 09:59:41</td>\n",
       "      <td>90656</td>\n",
       "      <td>4912</td>\n",
       "      <td>2898</td>\n",
       "    </tr>\n",
       "    <tr>\n",
       "      <th>1</th>\n",
       "      <td>47657117525_10152093353167906</td>\n",
       "      <td>Warriors TV Exclusive: Last night, Laurence Sc...</td>\n",
       "      <td>Video</td>\n",
       "      <td>2014-01-24 08:46:29</td>\n",
       "      <td>110784</td>\n",
       "      <td>3404</td>\n",
       "      <td>3049</td>\n",
       "    </tr>\n",
       "    <tr>\n",
       "      <th>2</th>\n",
       "      <td>47657117525_10152092224622906</td>\n",
       "      <td>After garnering over 1 million votes and learn...</td>\n",
       "      <td>Link</td>\n",
       "      <td>2014-01-23 17:55:01</td>\n",
       "      <td>358016</td>\n",
       "      <td>21056</td>\n",
       "      <td>17899</td>\n",
       "    </tr>\n",
       "    <tr>\n",
       "      <th>3</th>\n",
       "      <td>47657117525_10152235165297526</td>\n",
       "      <td>OFFICIAL: Stephen Curry has been named a start...</td>\n",
       "      <td>Photo</td>\n",
       "      <td>2014-01-23 16:27:59</td>\n",
       "      <td>615680</td>\n",
       "      <td>43984</td>\n",
       "      <td>46037</td>\n",
       "    </tr>\n",
       "    <tr>\n",
       "      <th>4</th>\n",
       "      <td>47657117525_10152234295762526</td>\n",
       "      <td>Andre Iguodala, David Lee, Klay Thompson and S...</td>\n",
       "      <td>Photo</td>\n",
       "      <td>2014-01-23 09:22:43</td>\n",
       "      <td>275328</td>\n",
       "      <td>21752</td>\n",
       "      <td>24949</td>\n",
       "    </tr>\n",
       "  </tbody>\n",
       "</table>\n",
       "</div>"
      ],
      "text/plain": [
       "                         Post ID  \\\n",
       "0  47657117525_10152236476722526   \n",
       "1  47657117525_10152093353167906   \n",
       "2  47657117525_10152092224622906   \n",
       "3  47657117525_10152235165297526   \n",
       "4  47657117525_10152234295762526   \n",
       "\n",
       "                                        Post Message   Type  \\\n",
       "0  IT’S GAME DAY! The #Warriors continue their 5-...  Photo   \n",
       "1  Warriors TV Exclusive: Last night, Laurence Sc...  Video   \n",
       "2  After garnering over 1 million votes and learn...   Link   \n",
       "3  OFFICIAL: Stephen Curry has been named a start...  Photo   \n",
       "4  Andre Iguodala, David Lee, Klay Thompson and S...  Photo   \n",
       "\n",
       "               Posted  Lifetime Post organic reach  Lifetime Engaged Users  \\\n",
       "0 2014-01-24 09:59:41                        90656                    4912   \n",
       "1 2014-01-24 08:46:29                       110784                    3404   \n",
       "2 2014-01-23 17:55:01                       358016                   21056   \n",
       "3 2014-01-23 16:27:59                       615680                   43984   \n",
       "4 2014-01-23 09:22:43                       275328                   21752   \n",
       "\n",
       "   Lifetime Post Consumptions  \n",
       "0                        2898  \n",
       "1                        3049  \n",
       "2                       17899  \n",
       "3                       46037  \n",
       "4                       24949  "
      ]
     },
     "execution_count": 2,
     "metadata": {},
     "output_type": "execute_result"
    }
   ],
   "source": [
    "excel_file = 'Warriors_FB_Sample_Data_20140124.xlsx'\n",
    "metrics_page = pd.read_excel(excel_file, skiprows=[1], usecols=[0,2,3,6,8,13,15], sheet_name=0)\n",
    "metrics_page = metrics_page[pd.notnull(metrics_page['Post Message'])]\n",
    "metrics_page.head()"
   ]
  },
  {
   "cell_type": "code",
   "execution_count": 3,
   "metadata": {},
   "outputs": [
    {
     "data": {
      "text/plain": [
       "Post ID                        193\n",
       "Post Message                   193\n",
       "Type                           193\n",
       "Posted                         193\n",
       "Lifetime Post organic reach    193\n",
       "Lifetime Engaged Users         193\n",
       "Lifetime Post Consumptions     193\n",
       "dtype: int64"
      ]
     },
     "execution_count": 3,
     "metadata": {},
     "output_type": "execute_result"
    }
   ],
   "source": [
    "metrics_page.count()"
   ]
  },
  {
   "cell_type": "markdown",
   "metadata": {},
   "source": [
    "\n",
    "This sheet has __193 qualified (not null)__ data points.\n"
   ]
  },
  {
   "cell_type": "markdown",
   "metadata": {},
   "source": [
    "Next, we store the contents of the __Post Key Metrics__ sheet and track the following:\n",
    "1. __Daily New Likes__ - The number of new people who have liked your Page (Unique Users)\n",
    "2. __Daily Unlikes__ - The number of Unlikes of your Page (Unique Users)\n",
    "3. __Daily Page Engaged Users__ - The number of people who engaged with your Page. Engagement includes any click or story created. (Unique Users)\n"
   ]
  },
  {
   "cell_type": "code",
   "execution_count": 4,
   "metadata": {},
   "outputs": [
    {
     "data": {
      "text/html": [
       "<div>\n",
       "<style scoped>\n",
       "    .dataframe tbody tr th:only-of-type {\n",
       "        vertical-align: middle;\n",
       "    }\n",
       "\n",
       "    .dataframe tbody tr th {\n",
       "        vertical-align: top;\n",
       "    }\n",
       "\n",
       "    .dataframe thead th {\n",
       "        text-align: right;\n",
       "    }\n",
       "</style>\n",
       "<table border=\"1\" class=\"dataframe\">\n",
       "  <thead>\n",
       "    <tr style=\"text-align: right;\">\n",
       "      <th></th>\n",
       "      <th>Date</th>\n",
       "      <th>Daily New Likes</th>\n",
       "      <th>Daily Unlikes</th>\n",
       "      <th>Daily Page Engaged Users</th>\n",
       "    </tr>\n",
       "  </thead>\n",
       "  <tbody>\n",
       "    <tr>\n",
       "      <th>0</th>\n",
       "      <td>2013-12-01</td>\n",
       "      <td>3269</td>\n",
       "      <td>130</td>\n",
       "      <td>21104</td>\n",
       "    </tr>\n",
       "    <tr>\n",
       "      <th>1</th>\n",
       "      <td>2013-12-02</td>\n",
       "      <td>3210</td>\n",
       "      <td>110</td>\n",
       "      <td>12353</td>\n",
       "    </tr>\n",
       "    <tr>\n",
       "      <th>2</th>\n",
       "      <td>2013-12-03</td>\n",
       "      <td>3357</td>\n",
       "      <td>156</td>\n",
       "      <td>39448</td>\n",
       "    </tr>\n",
       "    <tr>\n",
       "      <th>3</th>\n",
       "      <td>2013-12-04</td>\n",
       "      <td>3013</td>\n",
       "      <td>135</td>\n",
       "      <td>37245</td>\n",
       "    </tr>\n",
       "    <tr>\n",
       "      <th>4</th>\n",
       "      <td>2013-12-05</td>\n",
       "      <td>3245</td>\n",
       "      <td>129</td>\n",
       "      <td>18310</td>\n",
       "    </tr>\n",
       "  </tbody>\n",
       "</table>\n",
       "</div>"
      ],
      "text/plain": [
       "        Date  Daily New Likes  Daily Unlikes  Daily Page Engaged Users\n",
       "0 2013-12-01             3269            130                     21104\n",
       "1 2013-12-02             3210            110                     12353\n",
       "2 2013-12-03             3357            156                     39448\n",
       "3 2013-12-04             3013            135                     37245\n",
       "4 2013-12-05             3245            129                     18310"
      ]
     },
     "execution_count": 4,
     "metadata": {},
     "output_type": "execute_result"
    }
   ],
   "source": [
    "metrics_post = pd.read_excel(excel_file, skiprows=[1], usecols=[0,2,3,4], sheet_name=1)\n",
    "metrics_post.head()"
   ]
  },
  {
   "cell_type": "code",
   "execution_count": 5,
   "metadata": {},
   "outputs": [
    {
     "data": {
      "text/plain": [
       "Date                        55\n",
       "Daily New Likes             55\n",
       "Daily Unlikes               55\n",
       "Daily Page Engaged Users    55\n",
       "dtype: int64"
      ]
     },
     "execution_count": 5,
     "metadata": {},
     "output_type": "execute_result"
    }
   ],
   "source": [
    "metrics_post.count()"
   ]
  },
  {
   "cell_type": "markdown",
   "metadata": {},
   "source": [
    "\n",
    "This sheet has __55 qualified (not null)__ data points.\n"
   ]
  },
  {
   "cell_type": "markdown",
   "metadata": {},
   "source": [
    "\n",
    "Now that we have our data, let's take a closer look at the information they provide us."
   ]
  },
  {
   "cell_type": "markdown",
   "metadata": {},
   "source": [
    "***\n",
    "## Part 1: Stephen Curry and Social Media\n",
    "\n",
    "In Part 1, We'll take a look at the impact Stephen Curry has on the Warriors' Social Media account. We'll investigate if posts about Curry perform better than the others."
   ]
  },
  {
   "cell_type": "markdown",
   "metadata": {},
   "source": [
    "### Step 1 - Setting the Baseline\n",
    "\n",
    "Let's compute the __Lifetime Averages per Post__ for the __Page Metrics__. This gives us a baseline for how all posts  perform."
   ]
  },
  {
   "cell_type": "code",
   "execution_count": 6,
   "metadata": {},
   "outputs": [
    {
     "name": "stdout",
     "output_type": "stream",
     "text": [
      "1. Organic Reach : 193,648.20 unique users per post\n",
      "2. Engaged Users : 14,527.55 unique users per post\n",
      "3. Consumptions : 17,147.09 clicks per post\n"
     ]
    }
   ],
   "source": [
    "all_post_data = {}\n",
    "all_post_data['Organic Reach'] = metrics_page.iloc[:,4].mean()\n",
    "all_post_data['Engaged Users'] = metrics_page.iloc[:,5].mean()\n",
    "all_post_data['Consumptions'] = metrics_page.iloc[:,6].mean()\n",
    "\n",
    "print('1. Organic Reach : {0:,.2f} unique users per post'.format(all_post_data['Organic Reach']))\n",
    "print('2. Engaged Users : {0:,.2f} unique users per post'.format(all_post_data['Engaged Users']))\n",
    "print('3. Consumptions : {0:,.2f} clicks per post'.format(all_post_data['Consumptions']))"
   ]
  },
  {
   "cell_type": "markdown",
   "metadata": {},
   "source": [
    "\n",
    "### Step 2 - Extracting the Data\n",
    "Now we isolate the __Post Messages__ that contain any mention of __Stephen Curry__. We exclude posts that mention other teammates (starting five)."
   ]
  },
  {
   "cell_type": "code",
   "execution_count": 7,
   "metadata": {},
   "outputs": [
    {
     "data": {
      "text/html": [
       "<div>\n",
       "<style scoped>\n",
       "    .dataframe tbody tr th:only-of-type {\n",
       "        vertical-align: middle;\n",
       "    }\n",
       "\n",
       "    .dataframe tbody tr th {\n",
       "        vertical-align: top;\n",
       "    }\n",
       "\n",
       "    .dataframe thead th {\n",
       "        text-align: right;\n",
       "    }\n",
       "</style>\n",
       "<table border=\"1\" class=\"dataframe\">\n",
       "  <thead>\n",
       "    <tr style=\"text-align: right;\">\n",
       "      <th></th>\n",
       "      <th>Post ID</th>\n",
       "      <th>Post Message</th>\n",
       "      <th>Type</th>\n",
       "      <th>Posted</th>\n",
       "      <th>Lifetime Post organic reach</th>\n",
       "      <th>Lifetime Engaged Users</th>\n",
       "      <th>Lifetime Post Consumptions</th>\n",
       "    </tr>\n",
       "  </thead>\n",
       "  <tbody>\n",
       "    <tr>\n",
       "      <th>1</th>\n",
       "      <td>47657117525_10152093353167906</td>\n",
       "      <td>Warriors TV Exclusive: Last night, Laurence Sc...</td>\n",
       "      <td>Video</td>\n",
       "      <td>2014-01-24 08:46:29</td>\n",
       "      <td>110784</td>\n",
       "      <td>3404</td>\n",
       "      <td>3049</td>\n",
       "    </tr>\n",
       "    <tr>\n",
       "      <th>2</th>\n",
       "      <td>47657117525_10152092224622906</td>\n",
       "      <td>After garnering over 1 million votes and learn...</td>\n",
       "      <td>Link</td>\n",
       "      <td>2014-01-23 17:55:01</td>\n",
       "      <td>358016</td>\n",
       "      <td>21056</td>\n",
       "      <td>17899</td>\n",
       "    </tr>\n",
       "    <tr>\n",
       "      <th>3</th>\n",
       "      <td>47657117525_10152235165297526</td>\n",
       "      <td>OFFICIAL: Stephen Curry has been named a start...</td>\n",
       "      <td>Photo</td>\n",
       "      <td>2014-01-23 16:27:59</td>\n",
       "      <td>615680</td>\n",
       "      <td>43984</td>\n",
       "      <td>46037</td>\n",
       "    </tr>\n",
       "    <tr>\n",
       "      <th>10</th>\n",
       "      <td>47657117525_10152228707397526</td>\n",
       "      <td>Today is the last day to Dub The Vote. #NBAAll...</td>\n",
       "      <td>Photo</td>\n",
       "      <td>2014-01-20 14:15:44</td>\n",
       "      <td>336000</td>\n",
       "      <td>20744</td>\n",
       "      <td>28193</td>\n",
       "    </tr>\n",
       "    <tr>\n",
       "      <th>12</th>\n",
       "      <td>47657117525_10152226346602526</td>\n",
       "      <td>If you want to see Stephen Curry in the NBA Al...</td>\n",
       "      <td>Photo</td>\n",
       "      <td>2014-01-19 13:06:07</td>\n",
       "      <td>336768</td>\n",
       "      <td>20264</td>\n",
       "      <td>25779</td>\n",
       "    </tr>\n",
       "  </tbody>\n",
       "</table>\n",
       "</div>"
      ],
      "text/plain": [
       "                          Post ID  \\\n",
       "1   47657117525_10152093353167906   \n",
       "2   47657117525_10152092224622906   \n",
       "3   47657117525_10152235165297526   \n",
       "10  47657117525_10152228707397526   \n",
       "12  47657117525_10152226346602526   \n",
       "\n",
       "                                         Post Message   Type  \\\n",
       "1   Warriors TV Exclusive: Last night, Laurence Sc...  Video   \n",
       "2   After garnering over 1 million votes and learn...   Link   \n",
       "3   OFFICIAL: Stephen Curry has been named a start...  Photo   \n",
       "10  Today is the last day to Dub The Vote. #NBAAll...  Photo   \n",
       "12  If you want to see Stephen Curry in the NBA Al...  Photo   \n",
       "\n",
       "                Posted  Lifetime Post organic reach  Lifetime Engaged Users  \\\n",
       "1  2014-01-24 08:46:29                       110784                    3404   \n",
       "2  2014-01-23 17:55:01                       358016                   21056   \n",
       "3  2014-01-23 16:27:59                       615680                   43984   \n",
       "10 2014-01-20 14:15:44                       336000                   20744   \n",
       "12 2014-01-19 13:06:07                       336768                   20264   \n",
       "\n",
       "    Lifetime Post Consumptions  \n",
       "1                         3049  \n",
       "2                        17899  \n",
       "3                        46037  \n",
       "10                       28193  \n",
       "12                       25779  "
      ]
     },
     "execution_count": 7,
     "metadata": {},
     "output_type": "execute_result"
    }
   ],
   "source": [
    "curry_data = []\n",
    "non_curry_data = []\n",
    "\n",
    "for index, row in metrics_page.iterrows():\n",
    "    curry = ['steph', 'stephen', 'curry']\n",
    "    post_message = row['Post Message'].lower()\n",
    "    \n",
    "    if any(c in post_message for c in curry):\n",
    "        team = ['andre', 'iguodala', 'klay', 'thompson', 'andrew', 'bogut', 'david', 'lee']\n",
    "        \n",
    "        if any(c in post_message for c in team):\n",
    "            non_curry_data.append(row)\n",
    "            continue\n",
    "        \n",
    "        curry_data.append(row)\n",
    "        continue\n",
    "    \n",
    "    non_curry_data.append(row)\n",
    "\n",
    "metrics_curry = pd.DataFrame(curry_data)\n",
    "metrics_curry.head()"
   ]
  },
  {
   "cell_type": "markdown",
   "metadata": {},
   "source": [
    "\n",
    "Let's take a look at how many posts are included.\n"
   ]
  },
  {
   "cell_type": "code",
   "execution_count": 8,
   "metadata": {},
   "outputs": [
    {
     "data": {
      "text/plain": [
       "Post ID                        45\n",
       "Post Message                   45\n",
       "Type                           45\n",
       "Posted                         45\n",
       "Lifetime Post organic reach    45\n",
       "Lifetime Engaged Users         45\n",
       "Lifetime Post Consumptions     45\n",
       "dtype: int64"
      ]
     },
     "execution_count": 8,
     "metadata": {},
     "output_type": "execute_result"
    }
   ],
   "source": [
    "metrics_curry.count()"
   ]
  },
  {
   "cell_type": "markdown",
   "metadata": {},
   "source": [
    "That's __45__ out of __193__ qualified data points. Roughly __23%__ of all posts."
   ]
  },
  {
   "cell_type": "markdown",
   "metadata": {},
   "source": [
    "\n",
    "### Step 3 - Computing the Changes\n",
    "After extracting the relevant data, let's compute the __Lifetime Averages per Post__ for __Curry__."
   ]
  },
  {
   "cell_type": "code",
   "execution_count": 9,
   "metadata": {
    "scrolled": true
   },
   "outputs": [
    {
     "name": "stdout",
     "output_type": "stream",
     "text": [
      "1. Organic Reach : 254,553.60 unique users per post\n",
      "2. Engaged Users : 18,090.87 unique users per post\n",
      "3. Consumptions : 22,071.53 clicks per post\n"
     ]
    }
   ],
   "source": [
    "curry_post_data = {}\n",
    "curry_post_data['Organic Reach'] = metrics_curry.iloc[:,4].mean()\n",
    "curry_post_data['Engaged Users'] = metrics_curry.iloc[:,5].mean()\n",
    "curry_post_data['Consumptions'] = metrics_curry.iloc[:,6].mean()\n",
    "\n",
    "print('1. Organic Reach : {0:,.2f} unique users per post'.format(curry_post_data['Organic Reach']))\n",
    "print('2. Engaged Users : {0:,.2f} unique users per post'.format(curry_post_data['Engaged Users']))\n",
    "print('3. Consumptions : {0:,.2f} clicks per post'.format(curry_post_data['Consumptions']))"
   ]
  },
  {
   "cell_type": "markdown",
   "metadata": {},
   "source": [
    "\n",
    "A quick glance shows that all numbers went up, but how much better is it?\n"
   ]
  },
  {
   "cell_type": "markdown",
   "metadata": {},
   "source": [
    "\n",
    "### Step 4 - Comparing the Data\n",
    "Let's compare the data for __All Posts__ and __Curry Posts__ using the following metrics."
   ]
  },
  {
   "cell_type": "markdown",
   "metadata": {},
   "source": [
    "### Organic Reach"
   ]
  },
  {
   "cell_type": "code",
   "execution_count": 10,
   "metadata": {},
   "outputs": [
    {
     "data": {
      "image/png": "[encoded data removed]",
      "text/plain": [
       "<Figure size 432x288 with 1 Axes>"
      ]
     },
     "metadata": {},
     "output_type": "display_data"
    }
   ],
   "source": [
    "combined_post_data = [all_post_data, curry_post_data]\n",
    "combined_df = pd.DataFrame(combined_post_data, index = ['All Posts', 'Curry Posts'])\n",
    "\n",
    "combined_df['Organic Reach'].transpose().plot.barh(title='ORGANIC REACH')\n",
    "\n",
    "plt.xlabel('USERS')\n",
    "plt.show()"
   ]
  },
  {
   "cell_type": "markdown",
   "metadata": {},
   "source": [
    "\n",
    "There is a __31.45% increase__ in __Lifetime Organic Reach per Post__.\n"
   ]
  },
  {
   "cell_type": "markdown",
   "metadata": {},
   "source": [
    "### Engaged Users"
   ]
  },
  {
   "cell_type": "code",
   "execution_count": 11,
   "metadata": {},
   "outputs": [
    {
     "data": {
      "image/png": "[encoded data removed]",
      "text/plain": [
       "<Figure size 432x288 with 1 Axes>"
      ]
     },
     "metadata": {},
     "output_type": "display_data"
    }
   ],
   "source": [
    "combined_df['Engaged Users'].transpose().plot.barh(title='ENGAGED USERS')\n",
    "\n",
    "plt.xlabel('USERS')\n",
    "plt.show()"
   ]
  },
  {
   "cell_type": "markdown",
   "metadata": {},
   "source": [
    "There is a __24.53% increase__ in __Lifetime Engaged Users per Post__. "
   ]
  },
  {
   "cell_type": "markdown",
   "metadata": {},
   "source": [
    "### Consumptions"
   ]
  },
  {
   "cell_type": "code",
   "execution_count": 12,
   "metadata": {},
   "outputs": [
    {
     "data": {
      "image/png": "[encoded data removed]",
      "text/plain": [
       "<Figure size 432x288 with 1 Axes>"
      ]
     },
     "metadata": {},
     "output_type": "display_data"
    }
   ],
   "source": [
    "combined_df['Consumptions'].transpose().plot.barh(title='CONSUMPTIONS')\n",
    "\n",
    "plt.xlabel('CLICKS')\n",
    "plt.show()"
   ]
  },
  {
   "cell_type": "markdown",
   "metadata": {},
   "source": [
    "There is a __28.72% increase__ in __Lifetime Consumptions per Post__."
   ]
  },
  {
   "cell_type": "markdown",
   "metadata": {},
   "source": [
    "Clearly, posts about Curry have significant impact on engagement and reach. This becomes even more evident when we compare __Curry Posts__ with __Non-Curry Posts__."
   ]
  },
  {
   "cell_type": "markdown",
   "metadata": {},
   "source": [
    "\n",
    "### Step 5 - The Rest of the Field\n",
    "\n",
    "Let's take a closer look at __Non-Curry Posts__. These are posts that either didn't mention Curry or mentioned him along with other players (possible pre-game line up announcements)."
   ]
  },
  {
   "cell_type": "code",
   "execution_count": 13,
   "metadata": {},
   "outputs": [
    {
     "data": {
      "text/plain": [
       "Post ID                        148\n",
       "Post Message                   148\n",
       "Type                           148\n",
       "Posted                         148\n",
       "Lifetime Post organic reach    148\n",
       "Lifetime Engaged Users         148\n",
       "Lifetime Post Consumptions     148\n",
       "dtype: int64"
      ]
     },
     "execution_count": 13,
     "metadata": {},
     "output_type": "execute_result"
    }
   ],
   "source": [
    "metrics_non_curry = pd.DataFrame(non_curry_data)\n",
    "metrics_non_curry.count()"
   ]
  },
  {
   "cell_type": "markdown",
   "metadata": {},
   "source": [
    "That's __148__ out of __193__ qualified posts. Roughly __77%__ of all data."
   ]
  },
  {
   "cell_type": "markdown",
   "metadata": {},
   "source": [
    "Next, we compute the the __Lifetime Averages per Post__ for __Non-Curry Posts__."
   ]
  },
  {
   "cell_type": "code",
   "execution_count": 14,
   "metadata": {},
   "outputs": [
    {
     "name": "stdout",
     "output_type": "stream",
     "text": [
      "1. Organic Reach : 175,129.66 unique users per post\n",
      "2. Engaged Users : 13,444.11 unique users per post\n",
      "3. Consumptions : 15,649.80 clicks per post\n"
     ]
    }
   ],
   "source": [
    "non_curry_post_data = {}\n",
    "non_curry_post_data['Organic Reach'] = metrics_non_curry.iloc[:,4].mean()\n",
    "non_curry_post_data['Engaged Users'] = metrics_non_curry.iloc[:,5].mean()\n",
    "non_curry_post_data['Consumptions'] = metrics_non_curry.iloc[:,6].mean()\n",
    "\n",
    "print('1. Organic Reach : {0:,.2f} unique users per post'.format(non_curry_post_data['Organic Reach']))\n",
    "print('2. Engaged Users : {0:,.2f} unique users per post'.format(non_curry_post_data['Engaged Users']))\n",
    "print('3. Consumptions : {0:,.2f} clicks per post'.format(non_curry_post_data['Consumptions']))"
   ]
  },
  {
   "cell_type": "markdown",
   "metadata": {},
   "source": [
    "A quick look shows us that all numbers are lower than the average for __All Posts__. Next, we'll compare this data with __Curry Posts__ to get a better understanding of the impact Curry has on Social Media."
   ]
  },
  {
   "cell_type": "markdown",
   "metadata": {},
   "source": [
    "### Step 6 - Getting a Better Picture"
   ]
  },
  {
   "cell_type": "markdown",
   "metadata": {},
   "source": [
    "Just like in __Step 4__, we'll compare the data in 3 different metrics."
   ]
  },
  {
   "cell_type": "markdown",
   "metadata": {},
   "source": [
    "### Organic Reach"
   ]
  },
  {
   "cell_type": "code",
   "execution_count": 15,
   "metadata": {},
   "outputs": [
    {
     "data": {
      "image/png": "[encoded data removed]",
      "text/plain": [
       "<Figure size 432x288 with 1 Axes>"
      ]
     },
     "metadata": {},
     "output_type": "display_data"
    }
   ],
   "source": [
    "combined_post_data = [all_post_data, curry_post_data, non_curry_post_data]\n",
    "combined_df = pd.DataFrame(combined_post_data, index = ['All Posts', 'Curry Posts', 'Non-Curry Posts'])\n",
    "\n",
    "combined_df['Organic Reach'].transpose().plot.barh(title='ORGANIC REACH')\n",
    "\n",
    "plt.xlabel('USERS')\n",
    "plt.show()"
   ]
  },
  {
   "cell_type": "markdown",
   "metadata": {},
   "source": [
    "There is a __45.35% increase__ in __Lifetime Organic Reach per Post__ between __Non-Curry__ and __Curry Posts__."
   ]
  },
  {
   "cell_type": "markdown",
   "metadata": {},
   "source": [
    "### Engaged Users"
   ]
  },
  {
   "cell_type": "code",
   "execution_count": 16,
   "metadata": {},
   "outputs": [
    {
     "data": {
      "image/png": "[encoded data removed]",
      "text/plain": [
       "<Figure size 432x288 with 1 Axes>"
      ]
     },
     "metadata": {},
     "output_type": "display_data"
    }
   ],
   "source": [
    "combined_df['Engaged Users'].transpose().plot.barh(title='ENGAGED USERS')\n",
    "\n",
    "plt.xlabel('USERS')\n",
    "plt.show()"
   ]
  },
  {
   "cell_type": "markdown",
   "metadata": {},
   "source": [
    "There is a __34.56% increase__ in __Lifetime Engaged Users per Post__ between __Non-Curry__ and __Curry Posts__."
   ]
  },
  {
   "cell_type": "markdown",
   "metadata": {},
   "source": [
    "### Consumptions"
   ]
  },
  {
   "cell_type": "code",
   "execution_count": 17,
   "metadata": {},
   "outputs": [
    {
     "data": {
      "image/png": "[encoded data removed]",
      "text/plain": [
       "<Figure size 432x288 with 1 Axes>"
      ]
     },
     "metadata": {},
     "output_type": "display_data"
    }
   ],
   "source": [
    "combined_df['Consumptions'].transpose().plot.barh(title='CONSUMPTIONS')\n",
    "\n",
    "plt.xlabel('CLICKS')\n",
    "plt.show()"
   ]
  },
  {
   "cell_type": "markdown",
   "metadata": {},
   "source": [
    "There is a __41.03% increase__ in __Lifetime Consumptions per Post__ between __Non-Curry__ and __Curry Posts__."
   ]
  },
  {
   "cell_type": "markdown",
   "metadata": {},
   "source": [
    "### Step 7 - Conclusion\n",
    "\n",
    "The NBA is a star-driven league. Superstars sell tickets and drive ratings. They sell merchandise and attract attention. \n",
    "\n",
    "The same applies online. Superstars increase engagement and reach. People want to watch, discuss, and support their  favorite players. This is especially true for Stephen Curry.\n",
    "\n",
    "In the 2013-2014 NBA Season, Curry became the first Warrior in [19 years](https://www.nba.com/warriors/1314-review-curry) to start in the All-Star Game. He also finished [4th](https://en.wikipedia.org/wiki/2014_NBA_All-Star_Game) in voting with over 1 Million votes.\n",
    "\n",
    "It only seems right the data back this up. Fans want to see more of Curry. They want to talk about him and know more about him. Featuring Curry in more social media posts is definitely a good idea. "
   ]
  },
  {
   "cell_type": "markdown",
   "metadata": {},
   "source": [
    "### Step 8 - Notes\n",
    "\n",
    "This data covers the period of January where there has been a higher than normal amount of [engagement](https://drive.google.com/file/d/0Byts4rXrKElFNkw5aUVEVHpTQW8/view). This may be due to the NBA All-Star voting process. Fans are able to vote for their favourite players by commenting #NBABallot on Facebook. A better approach would be to study the impact of Curry over a period of 1 year."
   ]
  },
  {
   "cell_type": "markdown",
   "metadata": {},
   "source": [
    "***\n",
    "## Part 2: Winning and User Engagement\n",
    "\n",
    "In Part 2, we'll look at how winning games affect social media engagement. We'll investigate if the Warrior's Facebook Page performs better when they win games."
   ]
  },
  {
   "cell_type": "markdown",
   "metadata": {},
   "source": [
    "\n",
    "### Step 1 - Game Data and Parameters\n",
    "We'll extract the game data [here](http://www.landofbasketball.com/results_by_team/2013_2014_warriors.htm) and use the following parameters:\n",
    "\n",
    "1. Investigate the Facebook Page performance 24 hours after every win. We use 24 hours because most games are played in the evening and related content are published after games. We want to see if users are more likely to engage with content when the team wins.\n",
    "\n",
    "\n",
    "2. Cover games played from November 30 2013 - January 23, 2014."
   ]
  },
  {
   "cell_type": "code",
   "execution_count": 18,
   "metadata": {},
   "outputs": [
    {
     "data": {
      "text/html": [
       "<div>\n",
       "<style scoped>\n",
       "    .dataframe tbody tr th:only-of-type {\n",
       "        vertical-align: middle;\n",
       "    }\n",
       "\n",
       "    .dataframe tbody tr th {\n",
       "        vertical-align: top;\n",
       "    }\n",
       "\n",
       "    .dataframe thead th {\n",
       "        text-align: right;\n",
       "    }\n",
       "</style>\n",
       "<table border=\"1\" class=\"dataframe\">\n",
       "  <thead>\n",
       "    <tr style=\"text-align: right;\">\n",
       "      <th></th>\n",
       "      <th>Date</th>\n",
       "      <th>Result</th>\n",
       "    </tr>\n",
       "  </thead>\n",
       "  <tbody>\n",
       "    <tr>\n",
       "      <th>0</th>\n",
       "      <td>2013-12-02</td>\n",
       "      <td>W</td>\n",
       "    </tr>\n",
       "    <tr>\n",
       "      <th>1</th>\n",
       "      <td>2013-12-04</td>\n",
       "      <td>W</td>\n",
       "    </tr>\n",
       "    <tr>\n",
       "      <th>3</th>\n",
       "      <td>2013-12-08</td>\n",
       "      <td>W</td>\n",
       "    </tr>\n",
       "    <tr>\n",
       "      <th>5</th>\n",
       "      <td>2013-12-12</td>\n",
       "      <td>W</td>\n",
       "    </tr>\n",
       "    <tr>\n",
       "      <th>8</th>\n",
       "      <td>2013-12-18</td>\n",
       "      <td>W</td>\n",
       "    </tr>\n",
       "  </tbody>\n",
       "</table>\n",
       "</div>"
      ],
      "text/plain": [
       "        Date Result\n",
       "0 2013-12-02      W\n",
       "1 2013-12-04      W\n",
       "3 2013-12-08      W\n",
       "5 2013-12-12      W\n",
       "8 2013-12-18      W"
      ]
     },
     "execution_count": 18,
     "metadata": {},
     "output_type": "execute_result"
    }
   ],
   "source": [
    "game_file = 'Warriors_Games_Dec_Jan.xlsx'\n",
    "game_df = pd.read_excel(game_file, sheet_name=0)\n",
    "game_df = game_df[game_df['Result'] == 'W']\n",
    "game_df = game_df[['Date','Result']]\n",
    "\n",
    "# Add 24 hours to the winning date\n",
    "for i, row in game_df.iterrows():\n",
    "    game_df.at[i,'Date'] = row['Date'] + pd.to_timedelta('1 day')\n",
    "\n",
    "game_df.head()"
   ]
  },
  {
   "cell_type": "code",
   "execution_count": 19,
   "metadata": {},
   "outputs": [
    {
     "data": {
      "text/plain": [
       "Date      17\n",
       "Result    17\n",
       "dtype: int64"
      ]
     },
     "execution_count": 19,
     "metadata": {},
     "output_type": "execute_result"
    }
   ],
   "source": [
    "game_df.count()"
   ]
  },
  {
   "cell_type": "markdown",
   "metadata": {},
   "source": [
    "There are __17 dates__ (24hrs after winning games) during this period.\n"
   ]
  },
  {
   "cell_type": "markdown",
   "metadata": {},
   "source": [
    "\n",
    "### Step 2 - Setting the Baseline\n",
    "Let's compute the __Daily Averages__ for the Post Metrics. This gives us a baseline for how users engaged with the Facebook Page."
   ]
  },
  {
   "cell_type": "code",
   "execution_count": 20,
   "metadata": {},
   "outputs": [
    {
     "name": "stdout",
     "output_type": "stream",
     "text": [
      "1. Net Likes (Likes - Unlikes) : 6,474.36 unique users per day\n",
      "2. Engaged Users : 64,924.49 unique users per day\n"
     ]
    }
   ],
   "source": [
    "daily_data = {}\n",
    "daily_data['Daily Net Likes'] = metrics_post.iloc[:,1].mean() - metrics_post.iloc[:,2].mean()\n",
    "daily_data['Daily Engaged Users'] = metrics_post.iloc[:,3].mean()\n",
    "\n",
    "print('1. Net Likes (Likes - Unlikes) : {0:,.2f} unique users per day'.format(daily_data['Daily Net Likes']))\n",
    "print('2. Engaged Users : {0:,.2f} unique users per day'.format(daily_data['Daily Engaged Users']))"
   ]
  },
  {
   "cell_type": "markdown",
   "metadata": {},
   "source": [
    "\n",
    "### Step 3 - Extracting Data\n",
    "Now we get the data for dates listed in Step 1."
   ]
  },
  {
   "cell_type": "code",
   "execution_count": 30,
   "metadata": {},
   "outputs": [
    {
     "data": {
      "text/html": [
       "<div>\n",
       "<style scoped>\n",
       "    .dataframe tbody tr th:only-of-type {\n",
       "        vertical-align: middle;\n",
       "    }\n",
       "\n",
       "    .dataframe tbody tr th {\n",
       "        vertical-align: top;\n",
       "    }\n",
       "\n",
       "    .dataframe thead th {\n",
       "        text-align: right;\n",
       "    }\n",
       "</style>\n",
       "<table border=\"1\" class=\"dataframe\">\n",
       "  <thead>\n",
       "    <tr style=\"text-align: right;\">\n",
       "      <th></th>\n",
       "      <th>Date</th>\n",
       "      <th>Daily New Likes</th>\n",
       "      <th>Daily Unlikes</th>\n",
       "      <th>Daily Page Engaged Users</th>\n",
       "      <th>Result</th>\n",
       "    </tr>\n",
       "  </thead>\n",
       "  <tbody>\n",
       "    <tr>\n",
       "      <th>0</th>\n",
       "      <td>2013-12-02</td>\n",
       "      <td>3210</td>\n",
       "      <td>110</td>\n",
       "      <td>12353</td>\n",
       "      <td>W</td>\n",
       "    </tr>\n",
       "    <tr>\n",
       "      <th>1</th>\n",
       "      <td>2013-12-04</td>\n",
       "      <td>3013</td>\n",
       "      <td>135</td>\n",
       "      <td>37245</td>\n",
       "      <td>W</td>\n",
       "    </tr>\n",
       "    <tr>\n",
       "      <th>2</th>\n",
       "      <td>2013-12-08</td>\n",
       "      <td>4002</td>\n",
       "      <td>175</td>\n",
       "      <td>49793</td>\n",
       "      <td>W</td>\n",
       "    </tr>\n",
       "    <tr>\n",
       "      <th>3</th>\n",
       "      <td>2013-12-12</td>\n",
       "      <td>4609</td>\n",
       "      <td>213</td>\n",
       "      <td>108307</td>\n",
       "      <td>W</td>\n",
       "    </tr>\n",
       "    <tr>\n",
       "      <th>4</th>\n",
       "      <td>2013-12-18</td>\n",
       "      <td>4972</td>\n",
       "      <td>201</td>\n",
       "      <td>48939</td>\n",
       "      <td>W</td>\n",
       "    </tr>\n",
       "  </tbody>\n",
       "</table>\n",
       "</div>"
      ],
      "text/plain": [
       "        Date  Daily New Likes  Daily Unlikes  Daily Page Engaged Users Result\n",
       "0 2013-12-02             3210            110                     12353      W\n",
       "1 2013-12-04             3013            135                     37245      W\n",
       "2 2013-12-08             4002            175                     49793      W\n",
       "3 2013-12-12             4609            213                    108307      W\n",
       "4 2013-12-18             4972            201                     48939      W"
      ]
     },
     "execution_count": 30,
     "metadata": {},
     "output_type": "execute_result"
    }
   ],
   "source": [
    "metrics_win = pd.merge(df, df2, on='Date')\n",
    "metrics_win.head()"
   ]
  },
  {
   "cell_type": "markdown",
   "metadata": {},
   "source": [
    "\n",
    "### Step 4 - Computing the Changes\n",
    "We compute the __Daily Averages__ for the new data (24hrs after wins)."
   ]
  },
  {
   "cell_type": "code",
   "execution_count": 31,
   "metadata": {},
   "outputs": [
    {
     "name": "stdout",
     "output_type": "stream",
     "text": [
      "1. Net Likes (Likes - Unlikes) : 6,800.65 unique users per day\n",
      "2. Engaged Users : 72,817.35 unique users per day\n"
     ]
    }
   ],
   "source": [
    "win_data = {}\n",
    "win_data['Daily Net Likes'] = metrics_win.iloc[:,1].mean() - metrics_win.iloc[:,2].mean()\n",
    "win_data['Daily Engaged Users'] = metrics_win.iloc[:,3].mean()\n",
    "\n",
    "print('1. Net Likes (Likes - Unlikes) : {0:,.2f} unique users per day'.format(win_data['Daily Net Likes']))\n",
    "print('2. Engaged Users : {0:,.2f} unique users per day'.format(win_data['Daily Engaged Users']))"
   ]
  },
  {
   "cell_type": "markdown",
   "metadata": {},
   "source": [
    "A quick look shows that there is an increase in average __Net Likes__ and __Engaged Users__ after every win."
   ]
  },
  {
   "cell_type": "markdown",
   "metadata": {},
   "source": [
    "\n",
    "### Step 5 - Comparing Data\n",
    "Let's take a closer look at the difference."
   ]
  },
  {
   "cell_type": "markdown",
   "metadata": {},
   "source": [
    "### Daily Net Likes"
   ]
  },
  {
   "cell_type": "code",
   "execution_count": 33,
   "metadata": {},
   "outputs": [
    {
     "data": {
      "image/png": "[encoded data removed]",
      "text/plain": [
       "<Figure size 432x288 with 1 Axes>"
      ]
     },
     "metadata": {},
     "output_type": "display_data"
    }
   ],
   "source": [
    "combined_average_data = [daily_data, win_data]\n",
    "combined_ave_df = pd.DataFrame(combined_average_data, index = ['Daily Average', 'Win Average'])\n",
    "\n",
    "combined_ave_df['Daily Net Likes'].transpose().plot.barh(title='DAILY NET LIKES')\n",
    "\n",
    "plt.xlabel('USERS')\n",
    "plt.show()"
   ]
  },
  {
   "cell_type": "markdown",
   "metadata": {},
   "source": [
    "There is a __5.04% increase__ in __Daily Net Likes__ whenever the team wins."
   ]
  },
  {
   "cell_type": "markdown",
   "metadata": {},
   "source": [
    "### Daily Engaged Users"
   ]
  },
  {
   "cell_type": "code",
   "execution_count": 34,
   "metadata": {},
   "outputs": [
    {
     "data": {
      "image/png": "[encoded data removed]",
      "text/plain": [
       "<Figure size 432x288 with 1 Axes>"
      ]
     },
     "metadata": {},
     "output_type": "display_data"
    }
   ],
   "source": [
    "combined_ave_df['Daily Engaged Users'].transpose().plot.barh(title='DAILY ENGAGED USERS')\n",
    "\n",
    "plt.xlabel('USERS')\n",
    "plt.show()"
   ]
  },
  {
   "cell_type": "markdown",
   "metadata": {},
   "source": [
    "There is a __12.16% increase__ in __Daily Engaged Users__ after every win."
   ]
  },
  {
   "cell_type": "markdown",
   "metadata": {},
   "source": [
    "\n",
    "### Step 6 - Conclusion"
   ]
  },
  {
   "cell_type": "markdown",
   "metadata": {},
   "source": [
    "While it is not as significant as Curry's impact on user engagement, there is still a slight improvement after every win.\n",
    "\n",
    "It makes sense given how fans are more likely to celebrate (share, like, comment) a win compared to a loss. It is worth testing if increasing the number of posts after every win improves the overall marketing effort."
   ]
  },
  {
   "cell_type": "markdown",
   "metadata": {},
   "source": [
    "***\n",
    "## Final Thoughts\n",
    "\n",
    "Fans love their star players. They also love winning. They love it even more when their star players excel in a win.\n",
    "\n",
    "It is worth investigating how much user engagement will improve if we continue to showcase star players. For example, we can feature Curry on __more than 30%__ (currently at 23%) of the posts. Even when he doesn't play well, we can pick his highlights and share it to the fans.\n",
    "\n",
    "The fans want it. The data seems to support it."
   ]
  },
  {
   "cell_type": "code",
   "execution_count": null,
   "metadata": {},
   "outputs": [],
   "source": []
  }
 ],
 "metadata": {
  "kernelspec": {
   "display_name": "Python 3",
   "language": "python",
   "name": "python3"
  },
  "language_info": {
   "codemirror_mode": {
    "name": "ipython",
    "version": 3
   },
   "file_extension": ".py",
   "mimetype": "text/x-python",
   "name": "python",
   "nbconvert_exporter": "python",
   "pygments_lexer": "ipython3",
   "version": "3.6.5"
  }
 },
 "nbformat": 4,
 "nbformat_minor": 2
}
